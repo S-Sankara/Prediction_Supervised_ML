{
 "cells": [
  {
   "cell_type": "code",
   "execution_count": null,
   "id": "boxed-import",
   "metadata": {},
   "outputs": [],
   "source": [
    "#importing Modules\n",
    "import numpy as np\n",
    "import pandas as pd \n",
    "import matplotlib.pyplot as plt"
   ]
  },
  {
   "cell_type": "code",
   "execution_count": null,
   "id": "moderate-target",
   "metadata": {},
   "outputs": [],
   "source": [
    "#reading the dataset\n",
    "s = pd.read_csv('student_scores.csv')"
   ]
  },
  {
   "cell_type": "code",
   "execution_count": null,
   "id": "fatty-timing",
   "metadata": {},
   "outputs": [],
   "source": [
    "# Finding the first five rows\n",
    "s.head()   "
   ]
  },
  {
   "cell_type": "code",
   "execution_count": null,
   "id": "directed-funeral",
   "metadata": {},
   "outputs": [],
   "source": [
    "s.shape"
   ]
  },
  {
   "cell_type": "code",
   "execution_count": null,
   "id": "mature-rating",
   "metadata": {},
   "outputs": [],
   "source": [
    "s.describe()"
   ]
  },
  {
   "cell_type": "code",
   "execution_count": null,
   "id": "modified-average",
   "metadata": {},
   "outputs": [],
   "source": [
    "# Plotting Hours Vs Percentage of Scores\n",
    "plt.scatter(s['Hours'], s['Scores'])\n",
    "plt.title('Hours vs Percentage')\n",
    "plt.xlabel('Studied Hours')\n",
    "plt.ylabel('Scores')\n",
    "plt.show()"
   ]
  },
  {
   "cell_type": "code",
   "execution_count": null,
   "id": "demonstrated-connecticut",
   "metadata": {},
   "outputs": [],
   "source": [
    "# X will take all the values except the last column which is dependent variable\n",
    "X = s.iloc[:, :-1].values \n",
    "y = s.iloc[:, -1].values\n",
    "print('X: ',X)\n",
    "print('y: ',y)"
   ]
  },
  {
   "cell_type": "code",
   "execution_count": null,
   "id": "destroyed-citizen",
   "metadata": {},
   "outputs": [],
   "source": [
    "# Splitting train and test sets\n",
    "from sklearn.model_selection import train_test_split\n",
    "X_train, X_test, y_train, y_test = train_test_split(X, y, test_size= 0.3, random_state = 0)"
   ]
  },
  {
   "cell_type": "code",
   "execution_count": null,
   "id": "welcome-figure",
   "metadata": {},
   "outputs": [],
   "source": [
    "# Training Linear Regression model on the training set\n",
    "from sklearn.linear_model import LinearRegression\n",
    "reg = LinearRegression()\n",
    "reg.fit(X_train, y_train)"
   ]
  },
  {
   "cell_type": "code",
   "execution_count": null,
   "id": "specified-supplement",
   "metadata": {},
   "outputs": [],
   "source": [
    "# Plotting the regression line\n",
    "line = reg.coef_*X+reg.intercept_\n",
    "\n",
    "# Plotting for the test data\n",
    "plt.scatter(X, y)\n",
    "plt.plot(X, line, color = 'red')\n",
    "plt.show()"
   ]
  },
  {
   "cell_type": "code",
   "execution_count": null,
   "id": "standard-encoding",
   "metadata": {},
   "outputs": [],
   "source": [
    "#Predicting the Test set results\n",
    "y_pred = reg.predict(X_test)\n",
    "print(y_pred)"
   ]
  },
  {
   "cell_type": "code",
   "execution_count": null,
   "id": "selective-transparency",
   "metadata": {},
   "outputs": [],
   "source": [
    "# Plotting the Training set results\n",
    "plt.scatter(X_train, y_train, color = 'purple')\n",
    "plt.plot(X_train, reg.predict(X_train), color = 'red')\n",
    "plt.title('Training set')\n",
    "plt.xlabel('Hours studied')\n",
    "plt.ylabel('Percentage of marks')\n",
    "plt.show()"
   ]
  },
  {
   "cell_type": "code",
   "execution_count": null,
   "id": "formal-housing",
   "metadata": {},
   "outputs": [],
   "source": [
    "# Plotting the Test set results\n",
    "plt.scatter(X_test, y_test, color = 'purple')\n",
    "plt.plot(X_train, reg.predict(X_train), color = 'red')\n",
    "plt.title('Test set')\n",
    "plt.xlabel('Hours studied')\n",
    "plt.ylabel('Percentage of marks')\n",
    "plt.show()"
   ]
  },
  {
   "cell_type": "code",
   "execution_count": null,
   "id": "meaning-entrepreneur",
   "metadata": {},
   "outputs": [],
   "source": [
    "#Comparing the actual values with the predicted values\n",
    "dataset = pd.DataFrame({'Actual': y_test, 'Predicted': y_pred})\n",
    "print(dataset)"
   ]
  },
  {
   "cell_type": "code",
   "execution_count": null,
   "id": "juvenile-caribbean",
   "metadata": {},
   "outputs": [],
   "source": [
    "# predicting the score\n",
    "dataset = np.array(9.25)\n",
    "dataset = np.reshape(dataset, (-1, 1))\n",
    "pred = reg.predict(dataset)\n",
    "print(\"If student studies 9.25 hours per day, the score will be {}.\".format(pred))"
   ]
  },
  {
   "cell_type": "code",
   "execution_count": null,
   "id": "fiscal-helen",
   "metadata": {},
   "outputs": [],
   "source": [
    "# Computing Error Metrics \n",
    "from sklearn.metrics import r2_score\n",
    "print('The R-Square of Model is: ', r2_score(y_test, y_pred))"
   ]
  },
  {
   "cell_type": "code",
   "execution_count": null,
   "id": "individual-tragedy",
   "metadata": {},
   "outputs": [],
   "source": []
  }
 ],
 "metadata": {
  "kernelspec": {
   "display_name": "Python 3",
   "language": "python",
   "name": "python3"
  },
  "language_info": {
   "codemirror_mode": {
    "name": "ipython",
    "version": 3
   },
   "file_extension": ".py",
   "mimetype": "text/x-python",
   "name": "python",
   "nbconvert_exporter": "python",
   "pygments_lexer": "ipython3",
   "version": "3.7.9"
  }
 },
 "nbformat": 4,
 "nbformat_minor": 5
}
